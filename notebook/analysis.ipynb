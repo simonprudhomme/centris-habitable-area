{
 "cells": [
  {
   "cell_type": "code",
   "execution_count": 2,
   "metadata": {},
   "outputs": [
    {
     "data": {
      "text/plain": [
       "True"
      ]
     },
     "execution_count": 2,
     "metadata": {},
     "output_type": "execute_result"
    }
   ],
   "source": [
    "from dotenv import load_dotenv\n",
    "load_dotenv()"
   ]
  },
  {
   "cell_type": "code",
   "execution_count": 8,
   "metadata": {},
   "outputs": [],
   "source": [
    "# Path to your image\n",
    "image_path = \"data/15 Place Massey Saint-Bruno-de-Montarville.png\"\n",
    "excel_path = image_path.replace(\".png\", \".xlsx\")"
   ]
  },
  {
   "cell_type": "code",
   "execution_count": 9,
   "metadata": {},
   "outputs": [],
   "source": [
    "import base64\n",
    "\n",
    "def encode_image(image_path):\n",
    "  with open(image_path, \"rb\") as image_file:\n",
    "    return base64.b64encode(image_file.read()).decode('utf-8')\n",
    "\n",
    "# Getting the base64 string\n",
    "base64_image = encode_image(image_path)"
   ]
  },
  {
   "cell_type": "code",
   "execution_count": 10,
   "metadata": {},
   "outputs": [
    {
     "name": "stdout",
     "output_type": "stream",
     "text": [
      "data = \"\"\"\n",
      "Pièce;Dimensions\n",
      "Hall d'entrée/Vestibule;8,10 X 4,9 p\n",
      "Salon;15 X 11,5 p\n",
      "Salle à manger;10,7 X 12 p\n",
      "Cuisine;8,4 X 11,2 p\n",
      "Chambre à coucher principale;13,6 X 10,2 p\n",
      "Penderie (Walk-in);4,5 X 7,7 p\n",
      "Salle de bains;13,6 X 9 p irr\n",
      "Chambre à coucher;11 X 10 p\n",
      "Chambre à coucher;11 X 10 p\n",
      "Salle familiale;20 X 11,6 p\n",
      "Bureau;11 X 8,9 p\n",
      "Salle de jeux;10,10 X 17 p\n",
      "Salle de bains;10,5 X 6,4 p\n",
      "\"\"\"\n"
     ]
    }
   ],
   "source": [
    "import requests\n",
    "import os\n",
    "from io import StringIO\n",
    "\n",
    "api_key = os.environ.get(\"OPENAI_API_KEY\")\n",
    "\n",
    "headers = {\n",
    "  \"Content-Type\": \"application/json\",\n",
    "  \"Authorization\": f\"Bearer {api_key}\"\n",
    "}\n",
    "\n",
    "prompt = \"\"\"\n",
    "Extract the information in the table of this image.\n",
    "Return the data in a format that can be ingested with Pandas. \n",
    "Just return the data, nothing else. \n",
    "Split column using ; as separator.\n",
    "\n",
    "Code:\n",
    "df = pd.read_csv(StringIO(data), header=0, names=['Pièce', 'Dimensions'])\n",
    "\n",
    "your answer:\n",
    "data =\n",
    "\"\"\"\n",
    "\n",
    "payload = {\n",
    "  \"model\": \"gpt-4-vision-preview\",\n",
    "  \"messages\": [\n",
    "    {\n",
    "      \"role\": \"user\",\n",
    "      \"content\": [\n",
    "        {\n",
    "          \"type\": \"text\",\n",
    "          \"text\": prompt\n",
    "        },\n",
    "        {\n",
    "          \"type\": \"image_url\",\n",
    "          \"image_url\": {\n",
    "            \"url\": f\"data:image/jpeg;base64,{base64_image}\"\n",
    "          }\n",
    "        }\n",
    "      ]\n",
    "    }\n",
    "  ],\n",
    "  \"max_tokens\": 300\n",
    "}\n",
    "\n",
    "response = requests.post(\"https://api.openai.com/v1/chat/completions\", headers=headers, json=payload)\n",
    "data = response.json()['choices'][0]['message']['content']\n",
    "print(data)"
   ]
  },
  {
   "cell_type": "code",
   "execution_count": 11,
   "metadata": {},
   "outputs": [
    {
     "data": {
      "text/html": [
       "<div>\n",
       "<style scoped>\n",
       "    .dataframe tbody tr th:only-of-type {\n",
       "        vertical-align: middle;\n",
       "    }\n",
       "\n",
       "    .dataframe tbody tr th {\n",
       "        vertical-align: top;\n",
       "    }\n",
       "\n",
       "    .dataframe thead th {\n",
       "        text-align: right;\n",
       "    }\n",
       "</style>\n",
       "<table border=\"1\" class=\"dataframe\">\n",
       "  <thead>\n",
       "    <tr style=\"text-align: right;\">\n",
       "      <th></th>\n",
       "      <th>Pièce</th>\n",
       "      <th>Dimensions</th>\n",
       "    </tr>\n",
       "  </thead>\n",
       "  <tbody>\n",
       "    <tr>\n",
       "      <th>0</th>\n",
       "      <td>Hall d'entrée/Vestibule</td>\n",
       "      <td>8,10 X 4,9 p</td>\n",
       "    </tr>\n",
       "    <tr>\n",
       "      <th>1</th>\n",
       "      <td>Salon</td>\n",
       "      <td>15 X 11,5 p</td>\n",
       "    </tr>\n",
       "    <tr>\n",
       "      <th>2</th>\n",
       "      <td>Salle à manger</td>\n",
       "      <td>10,7 X 12 p</td>\n",
       "    </tr>\n",
       "    <tr>\n",
       "      <th>3</th>\n",
       "      <td>Cuisine</td>\n",
       "      <td>8,4 X 11,2 p</td>\n",
       "    </tr>\n",
       "    <tr>\n",
       "      <th>4</th>\n",
       "      <td>Chambre à coucher principale</td>\n",
       "      <td>13,6 X 10,2 p</td>\n",
       "    </tr>\n",
       "    <tr>\n",
       "      <th>5</th>\n",
       "      <td>Penderie (Walk-in)</td>\n",
       "      <td>4,5 X 7,7 p</td>\n",
       "    </tr>\n",
       "    <tr>\n",
       "      <th>6</th>\n",
       "      <td>Salle de bains</td>\n",
       "      <td>13,6 X 9 p irr</td>\n",
       "    </tr>\n",
       "    <tr>\n",
       "      <th>7</th>\n",
       "      <td>Chambre à coucher</td>\n",
       "      <td>11 X 10 p</td>\n",
       "    </tr>\n",
       "    <tr>\n",
       "      <th>8</th>\n",
       "      <td>Chambre à coucher</td>\n",
       "      <td>11 X 10 p</td>\n",
       "    </tr>\n",
       "    <tr>\n",
       "      <th>9</th>\n",
       "      <td>Salle familiale</td>\n",
       "      <td>20 X 11,6 p</td>\n",
       "    </tr>\n",
       "    <tr>\n",
       "      <th>10</th>\n",
       "      <td>Bureau</td>\n",
       "      <td>11 X 8,9 p</td>\n",
       "    </tr>\n",
       "    <tr>\n",
       "      <th>11</th>\n",
       "      <td>Salle de jeux</td>\n",
       "      <td>10,10 X 17 p</td>\n",
       "    </tr>\n",
       "    <tr>\n",
       "      <th>12</th>\n",
       "      <td>Salle de bains</td>\n",
       "      <td>10,5 X 6,4 p</td>\n",
       "    </tr>\n",
       "  </tbody>\n",
       "</table>\n",
       "</div>"
      ],
      "text/plain": [
       "                           Pièce      Dimensions\n",
       "0        Hall d'entrée/Vestibule    8,10 X 4,9 p\n",
       "1                          Salon     15 X 11,5 p\n",
       "2                 Salle à manger     10,7 X 12 p\n",
       "3                        Cuisine    8,4 X 11,2 p\n",
       "4   Chambre à coucher principale   13,6 X 10,2 p\n",
       "5             Penderie (Walk-in)     4,5 X 7,7 p\n",
       "6                 Salle de bains  13,6 X 9 p irr\n",
       "7              Chambre à coucher       11 X 10 p\n",
       "8              Chambre à coucher       11 X 10 p\n",
       "9                Salle familiale     20 X 11,6 p\n",
       "10                        Bureau      11 X 8,9 p\n",
       "11                 Salle de jeux    10,10 X 17 p\n",
       "12                Salle de bains    10,5 X 6,4 p"
      ]
     },
     "execution_count": 11,
     "metadata": {},
     "output_type": "execute_result"
    }
   ],
   "source": [
    "import pandas as pd\n",
    "df = pd.read_csv(StringIO(data.split('\"\"\"')[1]), sep=';', header=0, names=['Pièce', 'Dimensions'])\n",
    "df"
   ]
  },
  {
   "cell_type": "code",
   "execution_count": 12,
   "metadata": {},
   "outputs": [],
   "source": [
    "import pandas as pd\n",
    "import re\n",
    "\n",
    "def convert_comma_to_dot(text):\n",
    "    # Replace comma with dot to convert to float\n",
    "    return text.replace(',', '.')\n",
    "\n",
    "def extract_numbers(text):\n",
    "    # Improved regex to extract dimensions in the format 'number.number'\n",
    "    numbers_dots_pattern = re.compile(r'[0-9.,]+')\n",
    "    extracted = numbers_dots_pattern.findall(text)\n",
    "    # Convert comma to dot\n",
    "    extracted = [convert_comma_to_dot(number) for number in extracted]\n",
    "    return extracted\n",
    "\n",
    "def extract_dimensions(text):\n",
    "    extracted = extract_numbers(text)\n",
    "    if len(extracted) == 2:\n",
    "        return extracted\n",
    "    else:\n",
    "        # Handle cases where the extraction does not yield exactly 2 values\n",
    "        return [None, None]\n",
    "\n",
    "# Assuming df is your DataFrame\n",
    "# Apply extract_dimensions and create a new DataFrame from the results\n",
    "dimensions_df = df['Dimensions'].apply(extract_dimensions).apply(pd.Series)\n",
    "\n",
    "# Rename the new columns and add them to the original DataFrame\n",
    "df['width'] = dimensions_df[0]\n",
    "df['length'] = dimensions_df[1]\n",
    "\n",
    "# convert to numeric\n",
    "df['width'] = pd.to_numeric(df['width'])\n",
    "df['length'] = pd.to_numeric(df['length'])"
   ]
  },
  {
   "cell_type": "code",
   "execution_count": 21,
   "metadata": {},
   "outputs": [
    {
     "name": "stdout",
     "output_type": "stream",
     "text": [
      "Price per square foot: 414.68 $/ft²\n"
     ]
    }
   ],
   "source": [
    "# Compute habitable area\n",
    "habitable_area = sum(df['width'] * df['length'])\n",
    "house_price = 630_000\n",
    "\n",
    "# Compute price per square foot\n",
    "price_per_square_foot = house_price / habitable_area\n",
    "\n",
    "print(f\"Price per square foot: {price_per_square_foot:.2f} $/ft²\")\n"
   ]
  },
  {
   "cell_type": "code",
   "execution_count": 22,
   "metadata": {},
   "outputs": [],
   "source": [
    "def save_to_excel(df, excel_path=excel_path):\n",
    "    df.to_excel(excel_path, index=False)\n",
    "\n",
    "save_to_excel(df)"
   ]
  }
 ],
 "metadata": {
  "kernelspec": {
   "display_name": "venv",
   "language": "python",
   "name": "python3"
  },
  "language_info": {
   "codemirror_mode": {
    "name": "ipython",
    "version": 3
   },
   "file_extension": ".py",
   "mimetype": "text/x-python",
   "name": "python",
   "nbconvert_exporter": "python",
   "pygments_lexer": "ipython3",
   "version": "3.10.13"
  }
 },
 "nbformat": 4,
 "nbformat_minor": 2
}
