{
 "cells": [
  {
   "cell_type": "code",
   "execution_count": 25,
   "metadata": {},
   "outputs": [
    {
     "data": {
      "text/plain": [
       "True"
      ]
     },
     "execution_count": 25,
     "metadata": {},
     "output_type": "execute_result"
    }
   ],
   "source": [
    "from dotenv import load_dotenv\n",
    "load_dotenv()"
   ]
  },
  {
   "cell_type": "code",
   "execution_count": 26,
   "metadata": {},
   "outputs": [],
   "source": [
    "# Path to your image\n",
    "image_path = \"data/224 Rue Robert Saint-Bruno-de-Montarville.png\"\n",
    "excel_path = image_path.replace(\".png\", \".xlsx\")"
   ]
  },
  {
   "cell_type": "code",
   "execution_count": 27,
   "metadata": {},
   "outputs": [],
   "source": [
    "import base64\n",
    "\n",
    "def encode_image(image_path):\n",
    "  with open(image_path, \"rb\") as image_file:\n",
    "    return base64.b64encode(image_file.read()).decode('utf-8')\n",
    "\n",
    "# Getting the base64 string\n",
    "base64_image = encode_image(image_path)"
   ]
  },
  {
   "cell_type": "code",
   "execution_count": 28,
   "metadata": {},
   "outputs": [
    {
     "name": "stdout",
     "output_type": "stream",
     "text": [
      "data =\n",
      "Pièce;Dimensions\n",
      "Hall d'entrée/Vestibule;4,8 X 4,8 p\n",
      "Salon;14,2 X 13,7 p irr\n",
      "Salle à manger;19,6 X 13,1 p irr\n",
      "Cuisine;17,4 X 11 p\n",
      "Coin-repas;9,7 X 6,7 p\n",
      "Salle familiale;24,10 X 15,6 p\n",
      "Chambre à coucher;11,5 X 9,7 p\n",
      "Salle d'eau;8,1 X 5,9 p\n",
      "Chambre à coucher principale;15,6 X 12,6 p\n",
      "Chambre à coucher;11,6 X 9,10 p\n",
      "Chambre à coucher;10,2 X 9,8 p\n",
      "Salle de bains;10,11 X 9,11 p\n",
      "Salle de jeux;25,7 X 16,3 p irr\n"
     ]
    }
   ],
   "source": [
    "import requests\n",
    "import os\n",
    "from io import StringIO\n",
    "\n",
    "api_key = os.environ.get(\"OPENAI_API_KEY\")\n",
    "\n",
    "headers = {\n",
    "  \"Content-Type\": \"application/json\",\n",
    "  \"Authorization\": f\"Bearer {api_key}\"\n",
    "}\n",
    "\n",
    "prompt = \"\"\"\n",
    "Extract the information in the table of this image.\n",
    "Return the data in a format that can be ingested with Pandas. \n",
    "Just return the data, nothing else. \n",
    "Split column using ; as separator.\n",
    "\n",
    "Code:\n",
    "df = pd.read_csv(StringIO(data), header=0, names=['Pièce', 'Dimensions'])\n",
    "\n",
    "your answer:\n",
    "data =\n",
    "\"\"\"\n",
    "\n",
    "payload = {\n",
    "  \"model\": \"gpt-4-vision-preview\",\n",
    "  \"messages\": [\n",
    "    {\n",
    "      \"role\": \"user\",\n",
    "      \"content\": [\n",
    "        {\n",
    "          \"type\": \"text\",\n",
    "          \"text\": prompt\n",
    "        },\n",
    "        {\n",
    "          \"type\": \"image_url\",\n",
    "          \"image_url\": {\n",
    "            \"url\": f\"data:image/jpeg;base64,{base64_image}\"\n",
    "          }\n",
    "        }\n",
    "      ]\n",
    "    }\n",
    "  ],\n",
    "  \"max_tokens\": 300\n",
    "}\n",
    "\n",
    "response = requests.post(\"https://api.openai.com/v1/chat/completions\", headers=headers, json=payload)\n",
    "data = response.json()['choices'][0]['message']['content']\n",
    "print(data)"
   ]
  },
  {
   "cell_type": "code",
   "execution_count": 34,
   "metadata": {},
   "outputs": [
    {
     "ename": "SyntaxError",
     "evalue": "unterminated string literal (detected at line 2) (2483477428.py, line 2)",
     "output_type": "error",
     "traceback": [
      "\u001b[0;36m  Cell \u001b[0;32mIn[34], line 2\u001b[0;36m\u001b[0m\n\u001b[0;31m    Hall d'entrée/Vestibule;4,8 X 4,8 p\u001b[0m\n\u001b[0m          ^\u001b[0m\n\u001b[0;31mSyntaxError\u001b[0m\u001b[0;31m:\u001b[0m unterminated string literal (detected at line 2)\n"
     ]
    }
   ],
   "source": []
  },
  {
   "cell_type": "code",
   "execution_count": 30,
   "metadata": {},
   "outputs": [
    {
     "ename": "IndexError",
     "evalue": "list index out of range",
     "output_type": "error",
     "traceback": [
      "\u001b[0;31m---------------------------------------------------------------------------\u001b[0m",
      "\u001b[0;31mIndexError\u001b[0m                                Traceback (most recent call last)",
      "Cell \u001b[0;32mIn[30], line 2\u001b[0m\n\u001b[1;32m      1\u001b[0m \u001b[38;5;28;01mimport\u001b[39;00m \u001b[38;5;21;01mpandas\u001b[39;00m \u001b[38;5;28;01mas\u001b[39;00m \u001b[38;5;21;01mpd\u001b[39;00m\n\u001b[0;32m----> 2\u001b[0m df \u001b[38;5;241m=\u001b[39m pd\u001b[38;5;241m.\u001b[39mread_csv(StringIO(\u001b[43mdata\u001b[49m\u001b[38;5;241;43m.\u001b[39;49m\u001b[43msplit\u001b[49m\u001b[43m(\u001b[49m\u001b[38;5;124;43m'\u001b[39;49m\u001b[38;5;124;43m\"\u001b[39;49m\u001b[38;5;124;43m\"\u001b[39;49m\u001b[38;5;124;43m\"\u001b[39;49m\u001b[38;5;124;43m'\u001b[39;49m\u001b[43m)\u001b[49m\u001b[43m[\u001b[49m\u001b[38;5;241;43m1\u001b[39;49m\u001b[43m]\u001b[49m), sep\u001b[38;5;241m=\u001b[39m\u001b[38;5;124m'\u001b[39m\u001b[38;5;124m;\u001b[39m\u001b[38;5;124m'\u001b[39m, header\u001b[38;5;241m=\u001b[39m\u001b[38;5;241m0\u001b[39m, names\u001b[38;5;241m=\u001b[39m[\u001b[38;5;124m'\u001b[39m\u001b[38;5;124mPièce\u001b[39m\u001b[38;5;124m'\u001b[39m, \u001b[38;5;124m'\u001b[39m\u001b[38;5;124mDimensions\u001b[39m\u001b[38;5;124m'\u001b[39m])\n\u001b[1;32m      3\u001b[0m df\n",
      "\u001b[0;31mIndexError\u001b[0m: list index out of range"
     ]
    }
   ],
   "source": [
    "import pandas as pd\n",
    "df = pd.read_csv(StringIO(data.split('\"\"\"')[1]), sep=';', header=0, names=['Pièce', 'Dimensions'])\n",
    "df"
   ]
  },
  {
   "cell_type": "code",
   "execution_count": null,
   "metadata": {},
   "outputs": [],
   "source": [
    "import pandas as pd\n",
    "import re\n",
    "\n",
    "def convert_comma_to_dot(text):\n",
    "    # Replace comma with dot to convert to float\n",
    "    return text.replace(',', '.')\n",
    "\n",
    "def extract_numbers(text):\n",
    "    # Improved regex to extract dimensions in the format 'number.number'\n",
    "    numbers_dots_pattern = re.compile(r'[0-9.,]+')\n",
    "    extracted = numbers_dots_pattern.findall(text)\n",
    "    # Convert comma to dot\n",
    "    extracted = [convert_comma_to_dot(number) for number in extracted]\n",
    "    return extracted\n",
    "\n",
    "def extract_dimensions(text):\n",
    "    extracted = extract_numbers(text)\n",
    "    if len(extracted) == 2:\n",
    "        return extracted\n",
    "    else:\n",
    "        # Handle cases where the extraction does not yield exactly 2 values\n",
    "        return [None, None]\n",
    "\n",
    "# Assuming df is your DataFrame\n",
    "# Apply extract_dimensions and create a new DataFrame from the results\n",
    "dimensions_df = df['Dimensions'].apply(extract_dimensions).apply(pd.Series)\n",
    "\n",
    "# Rename the new columns and add them to the original DataFrame\n",
    "df['width'] = dimensions_df[0]\n",
    "df['length'] = dimensions_df[1]"
   ]
  },
  {
   "cell_type": "code",
   "execution_count": null,
   "metadata": {},
   "outputs": [
    {
     "data": {
      "text/html": [
       "<div>\n",
       "<style scoped>\n",
       "    .dataframe tbody tr th:only-of-type {\n",
       "        vertical-align: middle;\n",
       "    }\n",
       "\n",
       "    .dataframe tbody tr th {\n",
       "        vertical-align: top;\n",
       "    }\n",
       "\n",
       "    .dataframe thead th {\n",
       "        text-align: right;\n",
       "    }\n",
       "</style>\n",
       "<table border=\"1\" class=\"dataframe\">\n",
       "  <thead>\n",
       "    <tr style=\"text-align: right;\">\n",
       "      <th></th>\n",
       "      <th>Pièce</th>\n",
       "      <th>Dimensions</th>\n",
       "      <th>width</th>\n",
       "      <th>length</th>\n",
       "    </tr>\n",
       "  </thead>\n",
       "  <tbody>\n",
       "    <tr>\n",
       "      <th>0</th>\n",
       "      <td>Salon</td>\n",
       "      <td>10,8 X 17,8 p</td>\n",
       "      <td>10.8</td>\n",
       "      <td>17.8</td>\n",
       "    </tr>\n",
       "    <tr>\n",
       "      <th>1</th>\n",
       "      <td>Salle à manger</td>\n",
       "      <td>10,7 X 10,11 p</td>\n",
       "      <td>10.7</td>\n",
       "      <td>10.11</td>\n",
       "    </tr>\n",
       "    <tr>\n",
       "      <th>2</th>\n",
       "      <td>Cuisine</td>\n",
       "      <td>10,4 X 14,2 p</td>\n",
       "      <td>10.4</td>\n",
       "      <td>14.2</td>\n",
       "    </tr>\n",
       "    <tr>\n",
       "      <th>3</th>\n",
       "      <td>Chambre à coucher principale</td>\n",
       "      <td>10,9 X 16,11 p</td>\n",
       "      <td>10.9</td>\n",
       "      <td>16.11</td>\n",
       "    </tr>\n",
       "    <tr>\n",
       "      <th>4</th>\n",
       "      <td>Chambre à coucher</td>\n",
       "      <td>12,9 X 10,7 p</td>\n",
       "      <td>12.9</td>\n",
       "      <td>10.7</td>\n",
       "    </tr>\n",
       "    <tr>\n",
       "      <th>5</th>\n",
       "      <td>Salle de bains</td>\n",
       "      <td>5,4 X 8 p</td>\n",
       "      <td>5.4</td>\n",
       "      <td>8</td>\n",
       "    </tr>\n",
       "    <tr>\n",
       "      <th>6</th>\n",
       "      <td>Chambre à coucher</td>\n",
       "      <td>7,11 X 10 p</td>\n",
       "      <td>7.11</td>\n",
       "      <td>10</td>\n",
       "    </tr>\n",
       "    <tr>\n",
       "      <th>7</th>\n",
       "      <td>Bureau</td>\n",
       "      <td>8,9 X 7,1 p</td>\n",
       "      <td>8.9</td>\n",
       "      <td>7.1</td>\n",
       "    </tr>\n",
       "    <tr>\n",
       "      <th>8</th>\n",
       "      <td>Salle familiale</td>\n",
       "      <td>13,3 X 17,11 p</td>\n",
       "      <td>13.3</td>\n",
       "      <td>17.11</td>\n",
       "    </tr>\n",
       "    <tr>\n",
       "      <th>9</th>\n",
       "      <td>Salle de lavage</td>\n",
       "      <td>4,9 X 10,11 p</td>\n",
       "      <td>4.9</td>\n",
       "      <td>10.11</td>\n",
       "    </tr>\n",
       "    <tr>\n",
       "      <th>10</th>\n",
       "      <td>Salle de bains</td>\n",
       "      <td>8 X 10,2 p</td>\n",
       "      <td>8</td>\n",
       "      <td>10.2</td>\n",
       "    </tr>\n",
       "  </tbody>\n",
       "</table>\n",
       "</div>"
      ],
      "text/plain": [
       "                           Pièce      Dimensions width length\n",
       "0                          Salon   10,8 X 17,8 p  10.8   17.8\n",
       "1                 Salle à manger  10,7 X 10,11 p  10.7  10.11\n",
       "2                        Cuisine   10,4 X 14,2 p  10.4   14.2\n",
       "3   Chambre à coucher principale  10,9 X 16,11 p  10.9  16.11\n",
       "4              Chambre à coucher   12,9 X 10,7 p  12.9   10.7\n",
       "5                 Salle de bains       5,4 X 8 p   5.4      8\n",
       "6              Chambre à coucher     7,11 X 10 p  7.11     10\n",
       "7                         Bureau     8,9 X 7,1 p   8.9    7.1\n",
       "8                Salle familiale  13,3 X 17,11 p  13.3  17.11\n",
       "9                Salle de lavage   4,9 X 10,11 p   4.9  10.11\n",
       "10                Salle de bains      8 X 10,2 p     8   10.2"
      ]
     },
     "execution_count": 23,
     "metadata": {},
     "output_type": "execute_result"
    }
   ],
   "source": [
    "df"
   ]
  },
  {
   "cell_type": "code",
   "execution_count": null,
   "metadata": {},
   "outputs": [],
   "source": [
    "def save_to_excel(df, excel_path=excel_path):\n",
    "    df.to_excel(excel_path, index=False)\n",
    "\n",
    "save_to_excel(df)"
   ]
  },
  {
   "cell_type": "code",
   "execution_count": null,
   "metadata": {},
   "outputs": [],
   "source": []
  }
 ],
 "metadata": {
  "kernelspec": {
   "display_name": "venv",
   "language": "python",
   "name": "python3"
  },
  "language_info": {
   "codemirror_mode": {
    "name": "ipython",
    "version": 3
   },
   "file_extension": ".py",
   "mimetype": "text/x-python",
   "name": "python",
   "nbconvert_exporter": "python",
   "pygments_lexer": "ipython3",
   "version": "3.11.6"
  }
 },
 "nbformat": 4,
 "nbformat_minor": 2
}
